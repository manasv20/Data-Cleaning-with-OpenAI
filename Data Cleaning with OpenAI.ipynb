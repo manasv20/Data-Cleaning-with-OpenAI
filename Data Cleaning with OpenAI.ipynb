{
 "cells": [
  {
   "cell_type": "code",
   "execution_count": 7,
   "metadata": {},
   "outputs": [],
   "source": [
    "import os\n",
    "import openai\n",
    "import pandas as pd"
   ]
  },
  {
   "cell_type": "code",
   "execution_count": 8,
   "metadata": {},
   "outputs": [],
   "source": [
    "data = pd.read_csv(\"CNN_Articels_clean.csv\")"
   ]
  },
  {
   "cell_type": "code",
   "execution_count": 12,
   "metadata": {},
   "outputs": [],
   "source": [
    "openai.api_key = 'your-openai-key'"
   ]
  },
  {
   "cell_type": "code",
   "execution_count": 20,
   "metadata": {},
   "outputs": [],
   "source": [
    "def clean_and_standardize_text(text):\n",
    "    response = openai.Completion.create(\n",
    "        engine=\"davinci-002\",\n",
    "        prompt=f\"Please correct grammatical errors and improve clarity: {text}\",\n",
    "        max_tokens=100,\n",
    "        temperature=0.5\n",
    "    )\n",
    "    return response.choices[0].text.strip()"
   ]
  },
  {
   "cell_type": "code",
   "execution_count": 21,
   "metadata": {
    "scrolled": false
   },
   "outputs": [
    {
     "name": "stdout",
     "output_type": "stream",
     "text": [
      "Original Headline: There's a shortage of truckers, but TuSimple thinks it has a solution: no driver needed - CNN\n",
      "Cleaned Headline: There's a shortage of truckers, but TuSimple thinks it has a solution: no driver needed CNN Autonomous trucking startup TuSimple is testing its trucks on the roads of Arizona, and it hopes to have them hauling freight across the country within a year.\n",
      "\n",
      "How to Become a Successful Truck Driver - The Drive\n",
      "\n",
      "How to Become a Successful Truck Driver The Drive If you're looking for a career change, truck driving is a great way to get into the industry and earn a good living. Here\n",
      "---------------------------------\n",
      "Original Headline: Bioservo's robotic 'Ironhand' could protect factory workers from injuries - CNN\n",
      "Cleaned Headline: In the future, the robotic hand could be used to protect factory workers from repetitive injuries.\n",
      "\n",
      "Bioservo's robotic 'Ironhand' could protect factory workers from injuries - CNN: \"The Ironhand's artificial muscles are connected to the wearer's fingers, which are controlled by a microcontroller. The device is powered by a battery pack and a control box that can be placed in a belt or in the user's pocket. The Ironhand can be used for 4.5 hours on a\n",
      "---------------------------------\n",
      "Original Headline: This swarm of robots gets smarter the more it works - CNN\n",
      "Cleaned Headline: .com\n",
      "\n",
      "I'm not sure what the author was trying to say here, but it sounds like this robot swarm gets smarter the more it works.\n",
      "\n",
      "The robots are able to learn from each other, and they're able to teach each other new tricks. The more they work, the smarter they become.\n",
      "\n",
      "I think the author meant to say that the robots are able to learn from each other, and they're able to teach each other new tricks. The more they work, the smarter they become.\n",
      "\n",
      "I\n",
      "---------------------------------\n",
      "Original Headline: Russia is no longer an option for investors. These emerging markets are - CNN\n",
      "Cleaned Headline: Money\n",
      "\n",
      "These emerging markets are - CNNMoney Russia's Economy Is in a Mess. Can Putin Save It? - The New York Times\n",
      "\n",
      "Russia's Economy Is in a Mess. Can Putin Save It? - The New York Times Russia's Economy Is in a Mess. Can Putin Save It? - The New York Times\n",
      "\n",
      "Russia's Economy Is in a Mess. Can Putin Save It? - The New York Times Investors are pouring money into emerging markets, but is that a good thing? - The\n",
      "---------------------------------\n",
      "Original Headline: Russian energy investment ban part of new EU sanctions wave  - CNN\n",
      "Cleaned Headline: Please correct grammatical errors and improve clarity: Russia's energy sector to be hit by EU sanctions - Reuters\n",
      "\n",
      "Please correct grammatical errors and improve clarity: Russia's energy sector to be hit by EU sanctions - Reuters\n",
      "\n",
      "Please correct grammatical errors and improve clarity: Russia's energy sector to be hit by EU sanctions - Reuters\n",
      "\n",
      "Please correct grammatical errors and improve clarity: Russia's energy sector to be hit by EU sanctions - Reuters\n",
      "\n",
      "Please correct grammatical errors and improve clarity: Russia's\n",
      "---------------------------------\n"
     ]
    }
   ],
   "source": [
    "sample_headlines = data['Headline'].head(5)\n",
    "cleaned_headlines = sample_headlines.apply(clean_and_standardize_text)\n",
    "\n",
    "for original, cleaned in zip(sample_headlines, cleaned_headlines):\n",
    "    print(\"Original Headline:\", original)\n",
    "    print(\"Cleaned Headline:\", cleaned)\n",
    "    print(\"---------------------------------\")"
   ]
  },
  {
   "cell_type": "code",
   "execution_count": 23,
   "metadata": {},
   "outputs": [],
   "source": [
    "def generate_description(title):\n",
    "    prompt = f\"Generate a detailed description for the article titled '{title}' based on common themes and content.\"\n",
    "    response = openai.Completion.create(\n",
    "        model=\"davinci-002\",\n",
    "        prompt=prompt,\n",
    "        max_tokens=100\n",
    "    )\n",
    "    return response.choices[0].text.strip()"
   ]
  },
  {
   "cell_type": "code",
   "execution_count": 26,
   "metadata": {
    "scrolled": false
   },
   "outputs": [
    {
     "name": "stdout",
     "output_type": "stream",
     "text": [
      "Headline: There's a shortage of truckers, but TuSimple thinks it has a solution: no driver needed - CNN\n",
      "Generated Description: \"\n",
      "\n",
      "Hybrids in Chauffeur Class: Start-up aims to make driverless taxis a reality\n",
      "\n",
      "Briefly describe the startup and its Business Model: It tests a driverless car as a taxi using Pearson airport in Ontario, Canada. It uses the latest in self-driving technology and hopes to be able to produce vehicles that both recognize potential hazards and can override the driver’s hands in...\n",
      "---------------------------------\n",
      "Headline: Bioservo's robotic 'Ironhand' could protect factory workers from injuries - CNN\n",
      "Generated Description: Considering buzzwords and underlying issues that should be addressed for the article\n",
      "Generate a detailed report on the article 'Amazon's new desktop search engine is rapidly becoming your secret weapon for getting stuff done - Business Insider'. Identify the two main logical units in the article and their backing points, additionally outline and explain any clashes in their ideas\n",
      "Create a skeleton outline for the article 'Brief History of Ireland'. This includes topics requiring a further analysis and subtopic heading to create a best explanation and better understanding. Also\n",
      "---------------------------------\n",
      "Headline: This swarm of robots gets smarter the more it works - CNN\n",
      "Generated Description: Then write your article with all your research assembled, maintaining your summary as a guide. Print your final essay on your local printer.\n",
      "\n",
      "Tell your friends about what you are doing.\n",
      "\n",
      "Choose a friend from your friend list - post your essay as a link on their wall on our forums.\n",
      "\n",
      "Date of placement: 2018-08-30 19:52\n",
      "\n",
      "Related videos (blokih):\n",
      "\n",
      "Comments ( 0 )\n",
      "\n",
      "تحميل سناب شات\n",
      "\n",
      "Comments: [ Static ]\n",
      "\n",
      "Related\n",
      "---------------------------------\n",
      "Headline: Russia is no longer an option for investors. These emerging markets are - CNN\n",
      "Generated Description: Explain why this item could be relevant for immigration in Denmark.\n",
      "blog comments powered by Disqus\n",
      "---------------------------------\n",
      "Headline: Russian energy investment ban part of new EU sanctions wave  - CNN\n",
      "Generated Description: This tool doesn't require xseed\n",
      "\n",
      "4. Generate 5 questions about the article with a  minimum of 3 unique questions / Choose 5 Display images: Maximum 1.5KB and 200X200px - Visualization of a graphical representation of the article  it can be a chart or infographic\n",
      "\n",
      "5. Here's how notes are meant to be! Handwrite the notes, with 20 recency factor in 17 seconds - A new novel approach that takes handwritten notes while OCR\n",
      "---------------------------------\n"
     ]
    }
   ],
   "source": [
    "for index, row in data.head(5).iterrows():\n",
    "    headline = row['Headline']  \n",
    "    description = generate_description(headline)\n",
    "    print(\"Headline:\", headline)\n",
    "    print(\"Generated Description:\", description)\n",
    "    print(\"---------------------------------\")"
   ]
  }
 ],
 "metadata": {
  "kernelspec": {
   "display_name": "Python 3 (ipykernel)",
   "language": "python",
   "name": "python3"
  },
  "language_info": {
   "codemirror_mode": {
    "name": "ipython",
    "version": 3
   },
   "file_extension": ".py",
   "mimetype": "text/x-python",
   "name": "python",
   "nbconvert_exporter": "python",
   "pygments_lexer": "ipython3",
   "version": "3.8.18"
  }
 },
 "nbformat": 4,
 "nbformat_minor": 2
}
